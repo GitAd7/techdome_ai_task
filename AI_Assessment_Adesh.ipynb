{
  "nbformat": 4,
  "nbformat_minor": 0,
  "metadata": {
    "colab": {
      "provenance": []
    },
    "kernelspec": {
      "name": "python3",
      "display_name": "Python 3"
    },
    "language_info": {
      "name": "python"
    }
  },
  "cells": [
    {
      "cell_type": "code",
      "execution_count": null,
      "metadata": {
        "colab": {
          "base_uri": "https://localhost:8080/"
        },
        "id": "zEl6qGfH1Nvb",
        "outputId": "dad3f120-5a0f-4504-e1d9-34ecd74c9c61"
      },
      "outputs": [
        {
          "output_type": "stream",
          "name": "stderr",
          "text": [
            "[nltk_data] Downloading package stopwords to /root/nltk_data...\n",
            "[nltk_data]   Package stopwords is already up-to-date!\n",
            "[nltk_data] Downloading package punkt to /root/nltk_data...\n",
            "[nltk_data]   Package punkt is already up-to-date!\n"
          ]
        }
      ],
      "source": [
        "import pandas as pd\n",
        "import numpy as np\n",
        "import re\n",
        "import nltk\n",
        "from nltk.corpus import stopwords\n",
        "nltk.download('stopwords') # Downloading stopwords corpus if not present\n",
        "nltk.download('punkt')\n",
        "\n",
        "from vaderSentiment.vaderSentiment import SentimentIntensityAnalyzer\n",
        "from sklearn.feature_extraction.text import TfidfVectorizer\n",
        "from sklearn.metrics import silhouette_score\n",
        "from sklearn.cluster import KMeans\n",
        "from sklearn.model_selection import train_test_split\n",
        "from transformers import BertTokenizer, TFBertForSequenceClassification\n",
        "import tensorflow as tf\n",
        "\n",
        "import warnings\n",
        "warnings.filterwarnings('ignore')"
      ]
    },
    {
      "cell_type": "code",
      "source": [
        "# Reading the excel file using pandas\n",
        "txt_data = pd.read_excel('/content/Assignment.xlsx')"
      ],
      "metadata": {
        "id": "QuGRO0gY2yTK"
      },
      "execution_count": null,
      "outputs": []
    },
    {
      "cell_type": "code",
      "source": [
        "# Showing first 5 rows of data\n",
        "txt_data.head()"
      ],
      "metadata": {
        "colab": {
          "base_uri": "https://localhost:8080/",
          "height": 206
        },
        "id": "mSVXDiJq28bN",
        "outputId": "584cee6a-5bae-4504-ddad-aa9794a3d9d4"
      },
      "execution_count": null,
      "outputs": [
        {
          "output_type": "execute_result",
          "data": {
            "text/plain": [
              "                                             Article\n",
              "0  Retailers, the makers of foods marketed for we...\n",
              "1  Move over, Ozempic — there’s a new drug in tow...\n",
              "2  Sept 14 (Reuters) - Bristol Myers Squibb (BMY....\n",
              "3  Austin Wolcott was 18 years old and pretty sur...\n",
              "4  Cancer, often referred to as the “emperor of a..."
            ],
            "text/html": [
              "\n",
              "  <div id=\"df-a8103d72-99a2-4418-af04-1e3910c90c5b\" class=\"colab-df-container\">\n",
              "    <div>\n",
              "<style scoped>\n",
              "    .dataframe tbody tr th:only-of-type {\n",
              "        vertical-align: middle;\n",
              "    }\n",
              "\n",
              "    .dataframe tbody tr th {\n",
              "        vertical-align: top;\n",
              "    }\n",
              "\n",
              "    .dataframe thead th {\n",
              "        text-align: right;\n",
              "    }\n",
              "</style>\n",
              "<table border=\"1\" class=\"dataframe\">\n",
              "  <thead>\n",
              "    <tr style=\"text-align: right;\">\n",
              "      <th></th>\n",
              "      <th>Article</th>\n",
              "    </tr>\n",
              "  </thead>\n",
              "  <tbody>\n",
              "    <tr>\n",
              "      <th>0</th>\n",
              "      <td>Retailers, the makers of foods marketed for we...</td>\n",
              "    </tr>\n",
              "    <tr>\n",
              "      <th>1</th>\n",
              "      <td>Move over, Ozempic — there’s a new drug in tow...</td>\n",
              "    </tr>\n",
              "    <tr>\n",
              "      <th>2</th>\n",
              "      <td>Sept 14 (Reuters) - Bristol Myers Squibb (BMY....</td>\n",
              "    </tr>\n",
              "    <tr>\n",
              "      <th>3</th>\n",
              "      <td>Austin Wolcott was 18 years old and pretty sur...</td>\n",
              "    </tr>\n",
              "    <tr>\n",
              "      <th>4</th>\n",
              "      <td>Cancer, often referred to as the “emperor of a...</td>\n",
              "    </tr>\n",
              "  </tbody>\n",
              "</table>\n",
              "</div>\n",
              "    <div class=\"colab-df-buttons\">\n",
              "\n",
              "  <div class=\"colab-df-container\">\n",
              "    <button class=\"colab-df-convert\" onclick=\"convertToInteractive('df-a8103d72-99a2-4418-af04-1e3910c90c5b')\"\n",
              "            title=\"Convert this dataframe to an interactive table.\"\n",
              "            style=\"display:none;\">\n",
              "\n",
              "  <svg xmlns=\"http://www.w3.org/2000/svg\" height=\"24px\" viewBox=\"0 -960 960 960\">\n",
              "    <path d=\"M120-120v-720h720v720H120Zm60-500h600v-160H180v160Zm220 220h160v-160H400v160Zm0 220h160v-160H400v160ZM180-400h160v-160H180v160Zm440 0h160v-160H620v160ZM180-180h160v-160H180v160Zm440 0h160v-160H620v160Z\"/>\n",
              "  </svg>\n",
              "    </button>\n",
              "\n",
              "  <style>\n",
              "    .colab-df-container {\n",
              "      display:flex;\n",
              "      gap: 12px;\n",
              "    }\n",
              "\n",
              "    .colab-df-convert {\n",
              "      background-color: #E8F0FE;\n",
              "      border: none;\n",
              "      border-radius: 50%;\n",
              "      cursor: pointer;\n",
              "      display: none;\n",
              "      fill: #1967D2;\n",
              "      height: 32px;\n",
              "      padding: 0 0 0 0;\n",
              "      width: 32px;\n",
              "    }\n",
              "\n",
              "    .colab-df-convert:hover {\n",
              "      background-color: #E2EBFA;\n",
              "      box-shadow: 0px 1px 2px rgba(60, 64, 67, 0.3), 0px 1px 3px 1px rgba(60, 64, 67, 0.15);\n",
              "      fill: #174EA6;\n",
              "    }\n",
              "\n",
              "    .colab-df-buttons div {\n",
              "      margin-bottom: 4px;\n",
              "    }\n",
              "\n",
              "    [theme=dark] .colab-df-convert {\n",
              "      background-color: #3B4455;\n",
              "      fill: #D2E3FC;\n",
              "    }\n",
              "\n",
              "    [theme=dark] .colab-df-convert:hover {\n",
              "      background-color: #434B5C;\n",
              "      box-shadow: 0px 1px 3px 1px rgba(0, 0, 0, 0.15);\n",
              "      filter: drop-shadow(0px 1px 2px rgba(0, 0, 0, 0.3));\n",
              "      fill: #FFFFFF;\n",
              "    }\n",
              "  </style>\n",
              "\n",
              "    <script>\n",
              "      const buttonEl =\n",
              "        document.querySelector('#df-a8103d72-99a2-4418-af04-1e3910c90c5b button.colab-df-convert');\n",
              "      buttonEl.style.display =\n",
              "        google.colab.kernel.accessAllowed ? 'block' : 'none';\n",
              "\n",
              "      async function convertToInteractive(key) {\n",
              "        const element = document.querySelector('#df-a8103d72-99a2-4418-af04-1e3910c90c5b');\n",
              "        const dataTable =\n",
              "          await google.colab.kernel.invokeFunction('convertToInteractive',\n",
              "                                                    [key], {});\n",
              "        if (!dataTable) return;\n",
              "\n",
              "        const docLinkHtml = 'Like what you see? Visit the ' +\n",
              "          '<a target=\"_blank\" href=https://colab.research.google.com/notebooks/data_table.ipynb>data table notebook</a>'\n",
              "          + ' to learn more about interactive tables.';\n",
              "        element.innerHTML = '';\n",
              "        dataTable['output_type'] = 'display_data';\n",
              "        await google.colab.output.renderOutput(dataTable, element);\n",
              "        const docLink = document.createElement('div');\n",
              "        docLink.innerHTML = docLinkHtml;\n",
              "        element.appendChild(docLink);\n",
              "      }\n",
              "    </script>\n",
              "  </div>\n",
              "\n",
              "\n",
              "<div id=\"df-e85f1db5-536b-4c5a-bdcb-0f4c935120d3\">\n",
              "  <button class=\"colab-df-quickchart\" onclick=\"quickchart('df-e85f1db5-536b-4c5a-bdcb-0f4c935120d3')\"\n",
              "            title=\"Suggest charts\"\n",
              "            style=\"display:none;\">\n",
              "\n",
              "<svg xmlns=\"http://www.w3.org/2000/svg\" height=\"24px\"viewBox=\"0 0 24 24\"\n",
              "     width=\"24px\">\n",
              "    <g>\n",
              "        <path d=\"M19 3H5c-1.1 0-2 .9-2 2v14c0 1.1.9 2 2 2h14c1.1 0 2-.9 2-2V5c0-1.1-.9-2-2-2zM9 17H7v-7h2v7zm4 0h-2V7h2v10zm4 0h-2v-4h2v4z\"/>\n",
              "    </g>\n",
              "</svg>\n",
              "  </button>\n",
              "\n",
              "<style>\n",
              "  .colab-df-quickchart {\n",
              "      --bg-color: #E8F0FE;\n",
              "      --fill-color: #1967D2;\n",
              "      --hover-bg-color: #E2EBFA;\n",
              "      --hover-fill-color: #174EA6;\n",
              "      --disabled-fill-color: #AAA;\n",
              "      --disabled-bg-color: #DDD;\n",
              "  }\n",
              "\n",
              "  [theme=dark] .colab-df-quickchart {\n",
              "      --bg-color: #3B4455;\n",
              "      --fill-color: #D2E3FC;\n",
              "      --hover-bg-color: #434B5C;\n",
              "      --hover-fill-color: #FFFFFF;\n",
              "      --disabled-bg-color: #3B4455;\n",
              "      --disabled-fill-color: #666;\n",
              "  }\n",
              "\n",
              "  .colab-df-quickchart {\n",
              "    background-color: var(--bg-color);\n",
              "    border: none;\n",
              "    border-radius: 50%;\n",
              "    cursor: pointer;\n",
              "    display: none;\n",
              "    fill: var(--fill-color);\n",
              "    height: 32px;\n",
              "    padding: 0;\n",
              "    width: 32px;\n",
              "  }\n",
              "\n",
              "  .colab-df-quickchart:hover {\n",
              "    background-color: var(--hover-bg-color);\n",
              "    box-shadow: 0 1px 2px rgba(60, 64, 67, 0.3), 0 1px 3px 1px rgba(60, 64, 67, 0.15);\n",
              "    fill: var(--button-hover-fill-color);\n",
              "  }\n",
              "\n",
              "  .colab-df-quickchart-complete:disabled,\n",
              "  .colab-df-quickchart-complete:disabled:hover {\n",
              "    background-color: var(--disabled-bg-color);\n",
              "    fill: var(--disabled-fill-color);\n",
              "    box-shadow: none;\n",
              "  }\n",
              "\n",
              "  .colab-df-spinner {\n",
              "    border: 2px solid var(--fill-color);\n",
              "    border-color: transparent;\n",
              "    border-bottom-color: var(--fill-color);\n",
              "    animation:\n",
              "      spin 1s steps(1) infinite;\n",
              "  }\n",
              "\n",
              "  @keyframes spin {\n",
              "    0% {\n",
              "      border-color: transparent;\n",
              "      border-bottom-color: var(--fill-color);\n",
              "      border-left-color: var(--fill-color);\n",
              "    }\n",
              "    20% {\n",
              "      border-color: transparent;\n",
              "      border-left-color: var(--fill-color);\n",
              "      border-top-color: var(--fill-color);\n",
              "    }\n",
              "    30% {\n",
              "      border-color: transparent;\n",
              "      border-left-color: var(--fill-color);\n",
              "      border-top-color: var(--fill-color);\n",
              "      border-right-color: var(--fill-color);\n",
              "    }\n",
              "    40% {\n",
              "      border-color: transparent;\n",
              "      border-right-color: var(--fill-color);\n",
              "      border-top-color: var(--fill-color);\n",
              "    }\n",
              "    60% {\n",
              "      border-color: transparent;\n",
              "      border-right-color: var(--fill-color);\n",
              "    }\n",
              "    80% {\n",
              "      border-color: transparent;\n",
              "      border-right-color: var(--fill-color);\n",
              "      border-bottom-color: var(--fill-color);\n",
              "    }\n",
              "    90% {\n",
              "      border-color: transparent;\n",
              "      border-bottom-color: var(--fill-color);\n",
              "    }\n",
              "  }\n",
              "</style>\n",
              "\n",
              "  <script>\n",
              "    async function quickchart(key) {\n",
              "      const quickchartButtonEl =\n",
              "        document.querySelector('#' + key + ' button');\n",
              "      quickchartButtonEl.disabled = true;  // To prevent multiple clicks.\n",
              "      quickchartButtonEl.classList.add('colab-df-spinner');\n",
              "      try {\n",
              "        const charts = await google.colab.kernel.invokeFunction(\n",
              "            'suggestCharts', [key], {});\n",
              "      } catch (error) {\n",
              "        console.error('Error during call to suggestCharts:', error);\n",
              "      }\n",
              "      quickchartButtonEl.classList.remove('colab-df-spinner');\n",
              "      quickchartButtonEl.classList.add('colab-df-quickchart-complete');\n",
              "    }\n",
              "    (() => {\n",
              "      let quickchartButtonEl =\n",
              "        document.querySelector('#df-e85f1db5-536b-4c5a-bdcb-0f4c935120d3 button');\n",
              "      quickchartButtonEl.style.display =\n",
              "        google.colab.kernel.accessAllowed ? 'block' : 'none';\n",
              "    })();\n",
              "  </script>\n",
              "</div>\n",
              "\n",
              "    </div>\n",
              "  </div>\n"
            ],
            "application/vnd.google.colaboratory.intrinsic+json": {
              "type": "dataframe",
              "variable_name": "txt_data",
              "summary": "{\n  \"name\": \"txt_data\",\n  \"rows\": 25,\n  \"fields\": [\n    {\n      \"column\": \"Article\",\n      \"properties\": {\n        \"dtype\": \"string\",\n        \"num_unique_values\": 25,\n        \"samples\": [\n          \"BRUKINSA is the first and only BTK inhibitor approved for follicular lymphoma in the European Union\\n\\nApproval was based on results from the ROSEWOOD trial in which BRUKINSA plus the anti-CD20 monoclonal antibody obinutuzumab achieved higher overall response rate compared to obinutuzumab alone\\n\\nBeiGene, Ltd. BGNE HKEX: 06160, SSE: 688235))), a global biotechnology company, today announced that the European Commission (EC) has granted marketing authorization for BRUKINSA\\u00ae (zanubrutinib) in combination with obinutuzumab for the treatment of adult patients with relapsed or refractory (R/R) follicular lymphoma (FL) who have received at least two prior lines of systemic therapy. This marks the fourth indication in the European Union (EU) for BRUKINSA, which is now approved to treat more patient populations in the EU than any other Bruton's tyrosine kinase (BTK) inhibitor.\\n\\n\\\"With this approval, we are excited to announce that BRUKINSA will become available as a treatment option for patients with follicular lymphoma in the European Union. BRUKINSA is now the first BTK inhibitor approved in this indication and has the broadest label of any medicine in its class globally,\\\" said Mehrdad Mobasher, M.D., M.P.H., Chief Medical Officer, Hematology at BeiGene. \\\"This milestone marks a significant advancement in our efforts to combat the disease by providing a new and effective treatment option to patients who have either failed to respond to initial therapies or have experienced a relapse.\\\"\\n\\nThe EC approval is based on positive results from ROSEWOOD (NCT03332017), a global, randomized, open-label Phase 2 study of BRUKINSA plus obinutuzumab compared with obinutuzumab alone in 217 patients with R/R FL who received at least two prior lines of systemic therapy. In the study, the overall response rate was 69.0% in the BRUKINSA plus obinutuzumab arm versus 45.8% in the obinutuzumab arm (P = 0.0012), with a median follow-up of approximately 20 months. Responses were durable with 18-month landmark duration of response (DOR) of 69.3% in the BRUKINSA combination arm.\\n\\nAdditionally, the median progression-free survival (PFS) for patients treated with BRUKINSA plus obinutuzumab was 28.0 months, compared to 10.4 months for patients treated with only obinutuzumab (HR: 0.50 [95% CI: 0.33, 0.75]; P = 0.0007).\\n\\nBRUKINSA plus obinutuzumab was generally well-tolerated, with safety results consistent with previous studies of both medicines.\\n\\n\\\"People living with follicular lymphoma often experience relapse and have poor responses to subsequent lines of therapy, making it imperative to improve outcomes,\\\" said Pier Luigi Zinzani, M.D., Ph.D., Full Professor of Haematology at the Institute of Haematology \\\"Ser\\u00e0gnoli,\\\" University of Bologna, Italy. \\\"The results from the ROSEWOOD trial demonstrated a significant clinical benefit of BRUKINSA plus obinutuzumab for patients with relapsed or refractory follicular lymphoma. BRUKINSA is a chemotherapy-free, oral treatment option that can be a practice-changing option for eligible patients with relapsed or refractory follicular lymphoma.\\\"\\n\\nIn addition to R/R FL, BRUKINSA is approved in the EU as monotherapy for the treatment of adult patients with chronic lymphocytic leukemia, for adult patients with marginal zone lymphoma who have received at least one prior anti-CD20-based therapy, and for adult patients with Waldenstr\\u00f6m's macroglobulinemia who have received at least one prior therapy, or in first-line treatment for patients unsuitable for chemo-immunotherapy.\\n\\nGerwin Winter, Senior Vice President, Head of Europe at BeiGene noted, \\\"We have made great progress in making BRUKINSA available to eligible patients with hematological malignancies globally, and this approval is a testament to our continued commitment to bring this much needed treatment option to patients in Europe and around the world. We hope that this approval will have a positive impact on the lives of many people living with follicular lymphoma in the European Union and their families.\\\"\\n\\nBeiGene currently has submissions for BRUKINSA in R/R FL under review by regulatory authorities including in the United States (U.S.) and China. Additionally, BeiGene's submission for BRUKINSA in R/R FL is under review by regulatory authorities in Canada, Switzerland, and the United Kingdom as part of the Access Consortium New Active Substance Work-sharing Initiative (NASWSI).\\n\\nBRUKINSA is approved in more than 65 markets, including the U.S., China, EU, Great Britain, Canada, Australia, South Korea, and Switzerland in selected indications and under development for additional indications globally. Product information may differ from country to country. Prescribers should consult the product information approved in their respective countries. The global BRUKINSA development program includes more than 5,000 subjects enrolled to date in 29 countries and regions.\\n\\nThe Summary of Product Characteristics for BRUKINSA can be found here: https://www.ema.europa.eu/en/documents/product-information/brukinsa-epar-product-information_en.pdf\\n\\nFL is the second most common type of non-Hodgkin lymphoma (NHL), accounting for 22 percent of all NHL cases.i Across Europe, over 122,000 people each year are diagnosed with NHL.ii FL is a slow-growing cancer but can become more aggressive over time. While FL remains incurable, people with the condition can live a long time. The five-year survival rate is about 90 percent, and approximately half of people diagnosed with FL can live with the disease for nearly 20 years.iii,iv\\n\\nBRUKINSA is a small molecule inhibitor of Bruton's tyrosine kinase (BTK) discovered by BeiGene scientists that is currently being evaluated globally in a broad clinical program as a monotherapy and in combination with other therapies to treat various B-cell malignancies. Because new BTK is continuously synthesized, BRUKINSA was specifically designed to deliver complete and sustained inhibition of the BTK protein by optimizing bioavailability, half-life, and selectivity. With differentiated pharmacokinetics compared to other approved BTK inhibitors, BRUKINSA has been demonstrated to inhibit the proliferation of malignant B cells within a number of disease relevant tissues.\\n\\nBeiGene is a global biotechnology company that is discovering and developing innovative oncology treatments that are more affordable and accessible to cancer patients worldwide. With a broad portfolio, we are expediting development of our diverse pipeline of novel therapeutics through our internal capabilities and collaborations. We are committed to radically improving access to medicines for far more patients who need them. Our growing global team of more than 10,000 colleagues spans five continents, with administrative offices in Basel, Beijing, and Cambridge, U.S. To learn more about BeiGene, please visit www.beigene.com and follow us on LinkedIn and X (formerly known as Twitter).\\n\\nThis press release contains forward-looking statements within the meaning of the Private Securities Litigation Reform Act of 1995 and other federal securities laws, including statements regarding BeiGene's ability to provide effective treatment options to patients with FL; whether BRUKINSA is a practice-changing option for eligible patients; the effect, if any, that the EC approval of BRUKINSA for R/R FL will have on people living with R/R FL and their families; BeiGene's advancement, anticipated clinical development, regulatory submissions and commercialization of zanubrutinib, particularly as a treatment for R/R FL; and BeiGene's plans, commitments, aspirations, and goals under the heading \\\"About BeiGene.\\\" Actual results may differ materially from those indicated in the forward-looking statements as a result of various important factors, including BeiGene's ability to demonstrate the efficacy and safety of its drug candidates; the clinical results for its drug candidates, which may not support further development or marketing approval; actions of regulatory agencies, which may affect the initiation, timing and progress of clinical trials and marketing approval; BeiGene's ability to achieve commercial success for its marketed medicines and drug candidates, if approved; BeiGene's ability to obtain and maintain protection of intellectual property for its medicines and technology; BeiGene's reliance on third parties to conduct drug development, manufacturing, commercialization, and other services; BeiGene's limited experience in obtaining regulatory approvals and commercializing pharmaceutical products and its ability to obtain additional funding for operations and to complete the development of its drug candidates and achieve and maintain profitability; and those risks more fully discussed in the section entitled \\\"Risk Factors\\\" in BeiGene's most recent quarterly report on Form 10-Q, as well as discussions of potential risks, uncertainties, and other important factors in BeiGene's subsequent filings with the U.S. Securities and Exchange Commission. All information in this press release is as of the date of this press release, and BeiGene undertakes no duty to update such information unless required by law.\",\n          \"Whether you dip it, drizzle it, or put it on chicken nuggets or french fries, McDonald\\u2019s sauce assortment is expanding this fall.\\n\\nThe fast food chain announced Tuesday that it's adding two new limited-edition sauces to its U.S. menu in two weeks.\\n\\nThe new sauces \\u2014 McDonald\\u2019s Sweet & Spicy Jam and McDonald\\u2019s MamboSauce \\u2014 will hit the menu on Oct. 9, according to a news release from the company.\\n\\nAre whoppers really too small?Burger King must face whopper of a lawsuit alleging burgers are too small, says judge\\n\\nWhat are McDonald's two new sauces?\\n\\nHere's more about the new limited-edition duo:\\n\\u2022 Sweet & Spicy Jam: The chain describes it as a breakfast-inspired \\\"jammy red pepper dipping sauce with a tongue-numbing Szechuan peppercorn kick.\\\" It also includes apple cider vinegar and cayenne pepper.\\n\\u2022 MamboSauce: This one is described by McD's as \\\"a tomato-based, sweet, spicy and vinegary sauce, inspired by an Washington, D.C. area sauce staple.\\\"\\n\\nThe company came up with the new sauces by exploring \\\"the incredible tastes and flavors found in communities across the country,\\\" Tariq Hassan, chief marking and customer experience officer at the chain, said in a news release.\\n\\nThe sauces \\\"live at the intersection of flavor and culture-pulling from decades of rich food history and tradition in local restaurants and home kitchens, and bringing the delicious spice, sweetness and kick of heat we know today\\u2019s customers are craving,\\\" Hassan said.\\n\\nMcD's said it's teaming up with six foodie content creators to review the sauces so they can share pairing suggestion ideas with customers on their respective TikTok channels.\\n\\nThe creators are: @Mr.Eats305, @sharidyonne, @santanakeish, @misslegarda, @natelovlogs and @blackgirlsexploredc.\\n\\n\\\"We\\u2019re passing the mic to some of our biggest sauce fans \\u2014 food content creators \\u2014 to get their authentic reactions from the very first, drizzle, dip and bite,\\\" Hassan said.\\n\\nThe creators are: @Mr.Eats305, @sharidyonne, @santanakeish, @misslegarda, @natelovlogs, and @blackgirlsexploredc.\\n\\nNatalie Neysa Alund is a senior correspondent for USA TODAY. Reach her at nalund@usatoday.com and follow her on X, the platform formerly known as Twitter @nataliealund.\",\n          \"Retailers, the makers of foods marketed for weight loss, and other types of companies could see knock-on effects from the rise of diabetes and weight loss drugs like Ozempic.\\n\\nAs they do every summer, publicly traded companies posted their second-quarter results while Americans were baring their bodies on the beach. But this year, the timing was apt. On several earnings calls in August, chief executives reassured investors that the Ozempic revolution had not left them in the dust, and that they could somehow share in the blazing success of new diabetes and weight loss drugs. \\u201cIt puts us in a good position to be a solution for those who are on the drugs,\\u201d said Dan R. Chard, the chief executive of Medifast, which makes diet products like shakes and protein bars, adding: \\u201cThey\\u2019re looking for guidance.\\u201d He told analysts this even while explaining that new-generation drugs had helped pummel earnings, down 34.7 percent year on year. \\u201cWe will continue to study this,\\u201d Michael Johnson, the chief executive of the nutritional supplement maker Herbalife, told investors. \\u201cAnd when we see an opportunity to capitalize on it, we will.\\u201d In theory, that opportunity \\u2014 both for making profits and for losing fortunes \\u2014 could be vast not only for the companies behind these drugs but also for some in completely different industries.\\n\\nKnown as GLP-1 drugs, the medications are already driving big profits. Novo Nordisk makes both Ozempic, which has been approved only for Type 2 diabetes, and its close relative Wegovy, which has been approved for weight loss. They mimic a glucagon-like peptide that regulates appetite in the brain, leaving people feeling sated for hours. Together, they helped send Novo\\u2019s earnings rocketing up 32 percent in the first half of this year, and Novo\\u2019s market value is now larger than the entire Danish economy. Eli Lilly\\u2019s sales surged 28 percent in the second quarter, thanks to another diabetes drug, Mounjaro, which the Food and Drug Administration may approve for weight loss this year. And the full potential isn\\u2019t even clear yet. The market for weight loss drugs is huge: There are roughly 750 million obese people worldwide, including about 42 percent of adults in the United States, where obesity-related illnesses incur billions of dollars in health care costs each year. But Novo says GLP-1 drugs could eventually have other uses, like helping prevent cardiovascular disease among obese adults. There are signs they could treat addiction and even Alzheimer\\u2019s, too. \\u201cThe market potential is very, very significant,\\u201d Novo\\u2019s chief financial officer, Karsten Knudsen, told me when I visited the company in June. \\u201cWe\\u2019re operating in kind of unusual territory.\\u201d\\n\\nThe ripple effects are widening. Retailers like Walmart, Kroger and Rite Aid say GLP-1 prescriptions are bringing more people into stores, where they make other purchases. Walmart\\u2019s chief executive, Doug McMillon, told analysts in August that its executives \\u201cexpect consumables, and health and wellness, primarily due to the popularity of some GLP-1 drugs, to grow as a percent of total.\\u201d Medtronic\\u2019s chief executive, Geoff Martha, said the company had seen a \\u201cmodest\\u201d dip in bariatric surgery, presumably as people opted for weight loss drugs instead. And some analysts believe the drugs could disrupt the American diet. \\u201cIf you\\u2019re eating fast food every day, you\\u2019ll probably continue to eat fast food every day,\\u201d James van Geelen of Citrinas Capital Management said on Bloomberg\\u2019s \\u201cOdd Lots\\u201d podcast. \\u201cYou will just eat a lot less of it.\\u201d Still, there is room for other approaches to fighting obesity. \\u201cThese drugs are game changers, but with an asterisk,\\u201d said David Ludwig, an obesity specialist and pediatrics professor at Harvard Medical School. (The drugs come with a long list of side effects.) \\u201cEven if you can reduce weight across the population with drugs, it\\u2019s not going to eliminate the risks of a poor diet.\\u201d Flush with cash, Novo agrees. \\u201cWe need to be looking at what\\u2019s the next thing,\\u201d its executive vice president for commercial strategy Camilla Sylvest, told me. In June, the company launched an obesity prevention unit near Copenhagen, to research how to stop the disease before people need to take drugs to lose weight. \\u2014 Vivienne Walt\\n\\nThe U.S. labor market begins to look like its old self. Employers added 187,000 jobs in August, the Labor Department reported Friday, and unemployment rose to 3.8 percent as the economy continued to lose momentum built up after pandemic lockdowns. Commerce Secretary Gina Raimondo visits China. She had the tricky task of promoting trade between the two superpowers while holding firm on technology export limits imposed in the name of American national security. The two countries agreed to create new dialogues, including a working group for commercial issues. The White House names the first drugs set for Medicare price negotiations. The long-awaited list of 10 medicines will be subject to a landmark new program meant to reduce costs for Medicare. Drugmakers have pushed back against the plan, including in court, and Republicans have criticized the initiative as government overreach. UBS reports a $29 billion quarterly profit, with an asterisk. The huge gain \\u2014 the biggest in banking history \\u2014 stems from the bank\\u2019s acquisition of its rival Credit Suisse this spring for about $3.2 billion, a steep discount that is skewing UBS\\u2019s results. But it belies the challenges that UBS faces as it moves to complete the largest takeover of a bank since the 2008 financial crisis. When Emily Weiss stepped down last year as the chief executive of Glossier, the skin care and beauty brand she founded in 2014, some called it the end of the \\u201cgirlboss.\\u201d That archetype \\u2014 of media-savvy female founders with venture-darling, millennial-focused start-ups \\u2014 had been propelled by \\u201c#Girlboss,\\u201d the Nasty Girl founder Sophia Amoruso\\u2019s 2014 memoir.\\n\\nGlossier, with its direct-to-consumer model and voice-y website, changed the way women buy makeup, eventually passing a $1 billion valuation. But the brand stumbled as it struggled to move into brick-and-mortar retail; faced criticism from retail employees who alleged a toxic, racist working environment; and shelved projects like a makeup line that departed from its dewy, barely-there look. DealBook spoke to Marisa Meltzer, author of the upcoming book \\u201cGlossy: Ambition, Beauty, and the Inside Story of Emily Weiss\\u2019s Glossier,\\u201d about what lessons we might glean from Weiss and the #Girlboss movement. This interview has been edited and condensed for clarity. Can you contextualize the #Girlboss movement? It was pretty offensive and diminutive. No one except for Sophia was calling themselves out as a girlboss. But it was also something that benefited them because it attracted interest. It was a way for them to get press about their businesses that wasn\\u2019t the typical things that female founders and C.E.O.s sometimes had to do, like a fashion spread.\\n\\nThere was a big debate at the time over whether the press would have covered the scandals at companies like Outdoor Voices, Man Repeller and Glossier differently if they had men at the helm. What do you think? I think there was a bit of a thirst for blood. These women had been propped up in a way that was kind of annoying \\u2014 I\\u2019m sure it was annoying to them, too. Some of those companies had real problems, like being sued over firing pregnant employees. And other companies had, like Glossier, an accusation of having a workplace, largely for their retail employees, that wasn\\u2019t ideal. That\\u2019s different than criminal behavior. The reality is these companies weren\\u2019t the same. The women at their helms were not all the same. And they weren\\u2019t making the same mistakes. And they also didn\\u2019t have the same level of success. What happens to Glossier now? Glossier seems to have taken the time since Emily stepped down to re-evaluate. They decided to really belatedly go into retail. They launched in Sephora last February. The larger task that they\\u2019re trying to do is make the company in better shape for an exit.\"\n        ],\n        \"semantic_type\": \"\",\n        \"description\": \"\"\n      }\n    }\n  ]\n}"
            }
          },
          "metadata": {},
          "execution_count": 3
        }
      ]
    },
    {
      "cell_type": "code",
      "source": [
        "# Checking shape of data\n",
        "txt_data.shape"
      ],
      "metadata": {
        "colab": {
          "base_uri": "https://localhost:8080/"
        },
        "id": "fdNWYOO62-jM",
        "outputId": "9c18c9ed-f47c-4542-c56b-67e5f0c47fcb"
      },
      "execution_count": null,
      "outputs": [
        {
          "output_type": "execute_result",
          "data": {
            "text/plain": [
              "(25, 1)"
            ]
          },
          "metadata": {},
          "execution_count": 4
        }
      ]
    },
    {
      "cell_type": "code",
      "source": [
        "# Getting the info about the data\n",
        "txt_data.info()"
      ],
      "metadata": {
        "colab": {
          "base_uri": "https://localhost:8080/"
        },
        "id": "ZUfWUmTH3U8H",
        "outputId": "10a2257d-b0ce-409b-8e40-2c8a4eb67e62"
      },
      "execution_count": null,
      "outputs": [
        {
          "output_type": "stream",
          "name": "stdout",
          "text": [
            "<class 'pandas.core.frame.DataFrame'>\n",
            "RangeIndex: 25 entries, 0 to 24\n",
            "Data columns (total 1 columns):\n",
            " #   Column   Non-Null Count  Dtype \n",
            "---  ------   --------------  ----- \n",
            " 0   Article  25 non-null     object\n",
            "dtypes: object(1)\n",
            "memory usage: 328.0+ bytes\n"
          ]
        }
      ]
    },
    {
      "cell_type": "code",
      "source": [
        "def cln_up_articles(txt_data):\n",
        "  txt = re.sub(r'[^\\w\\s]', '',txt_data)\n",
        "  txt = txt.lower()\n",
        "  tokens = nltk.word_tokenize(txt)\n",
        "  stp_wrds = set(stopwords.words('english'))\n",
        "  tokens = [token for token in tokens if token not in stp_wrds]\n",
        "  cln_articles = ' '.join(tokens)\n",
        "  return cln_articles"
      ],
      "metadata": {
        "id": "2ckXwUHY3eEt"
      },
      "execution_count": null,
      "outputs": []
    },
    {
      "cell_type": "code",
      "source": [
        "txt_data['Cln_Articles'] = txt_data['Article'].apply(cln_up_articles)"
      ],
      "metadata": {
        "id": "DbLIPCF6DZzw"
      },
      "execution_count": null,
      "outputs": []
    },
    {
      "cell_type": "code",
      "source": [
        "txt_data['Cln_Articles'].head()"
      ],
      "metadata": {
        "colab": {
          "base_uri": "https://localhost:8080/"
        },
        "id": "T6qKha4iDtOy",
        "outputId": "9e203491-f62d-48c5-9803-c417f94f7d93"
      },
      "execution_count": null,
      "outputs": [
        {
          "output_type": "execute_result",
          "data": {
            "text/plain": [
              "0    retailers makers foods marketed weight loss ty...\n",
              "1    move ozempic theres new drug town eli lillys z...\n",
              "2    sept 14 reuters bristol myers squibb bmyn said...\n",
              "3    austin wolcott 18 years old pretty sure wouldn...\n",
              "4    cancer often referred emperor maladies unyield...\n",
              "Name: Cln_Articles, dtype: object"
            ]
          },
          "metadata": {},
          "execution_count": 8
        }
      ]
    },
    {
      "cell_type": "code",
      "source": [
        "# !pip install vaderSentiment"
      ],
      "metadata": {
        "colab": {
          "base_uri": "https://localhost:8080/"
        },
        "id": "vf3Xc-QzGj1K",
        "outputId": "a165fa36-fb9b-4c8f-aa77-e2bc3f2da8e1"
      },
      "execution_count": null,
      "outputs": [
        {
          "output_type": "stream",
          "name": "stdout",
          "text": [
            "Requirement already satisfied: vaderSentiment in /usr/local/lib/python3.10/dist-packages (3.3.2)\n",
            "Requirement already satisfied: requests in /usr/local/lib/python3.10/dist-packages (from vaderSentiment) (2.31.0)\n",
            "Requirement already satisfied: charset-normalizer<4,>=2 in /usr/local/lib/python3.10/dist-packages (from requests->vaderSentiment) (3.3.2)\n",
            "Requirement already satisfied: idna<4,>=2.5 in /usr/local/lib/python3.10/dist-packages (from requests->vaderSentiment) (3.7)\n",
            "Requirement already satisfied: urllib3<3,>=1.21.1 in /usr/local/lib/python3.10/dist-packages (from requests->vaderSentiment) (2.0.7)\n",
            "Requirement already satisfied: certifi>=2017.4.17 in /usr/local/lib/python3.10/dist-packages (from requests->vaderSentiment) (2024.2.2)\n"
          ]
        }
      ]
    },
    {
      "cell_type": "code",
      "source": [
        "sia = SentimentIntensityAnalyzer()"
      ],
      "metadata": {
        "id": "6eYN4NsZHNiE"
      },
      "execution_count": null,
      "outputs": []
    },
    {
      "cell_type": "code",
      "source": [
        "def senti_class(txt_data):\n",
        "  scores = sia.polarity_scores(txt_data)\n",
        "  comp_score = scores['compound']\n",
        "  if comp_score >= 0.5:\n",
        "    return 'positive'\n",
        "  else:\n",
        "    return 'negative'"
      ],
      "metadata": {
        "id": "IecZ7iSuHTqs"
      },
      "execution_count": null,
      "outputs": []
    },
    {
      "cell_type": "code",
      "source": [
        "txt_data['mood_checker'] = txt_data['Cln_Articles'].apply(senti_class)"
      ],
      "metadata": {
        "id": "JRVcnwigIAD3"
      },
      "execution_count": null,
      "outputs": []
    },
    {
      "cell_type": "code",
      "source": [
        "txt_data['mood_checker'].value_counts()"
      ],
      "metadata": {
        "colab": {
          "base_uri": "https://localhost:8080/"
        },
        "id": "OC5927sFIJ1P",
        "outputId": "5453b9fc-d7c4-4087-f68d-fe6c2a95df69"
      },
      "execution_count": null,
      "outputs": [
        {
          "output_type": "execute_result",
          "data": {
            "text/plain": [
              "mood_checker\n",
              "positive    16\n",
              "negative     9\n",
              "Name: count, dtype: int64"
            ]
          },
          "metadata": {},
          "execution_count": 14
        }
      ]
    },
    {
      "cell_type": "code",
      "source": [
        "## run the code to check score of each text\n",
        "\n",
        "\n",
        "# for index, row in txt_data.iterrows():\n",
        "#   text = row['Cln_Articles']\n",
        "#   scores = sia.polarity_scores(text)\n",
        "#   comp_scores = scores['compound']\n",
        "#   print(f'The finals score for text at {index} is {comp_scores}')"
      ],
      "metadata": {
        "id": "jaUT_ZnGIL7r"
      },
      "execution_count": null,
      "outputs": []
    },
    {
      "cell_type": "code",
      "source": [
        "vect = TfidfVectorizer()\n",
        "X = vect.fit_transform(txt_data['Cln_Articles'])"
      ],
      "metadata": {
        "id": "qpnU-0LDRADH"
      },
      "execution_count": null,
      "outputs": []
    },
    {
      "cell_type": "code",
      "source": [
        "silhouette_scores = []\n",
        "for k in range(2, 11):\n",
        "    kmeans = KMeans(n_clusters=k, random_state=42)\n",
        "    labels = kmeans.fit_predict(X)\n",
        "    silhouette_scores.append(silhouette_score(X, labels))\n",
        "\n",
        "optimal_k = silhouette_scores.index(max(silhouette_scores)) + 2\n",
        "print(f\"Optimal number of clusters (k): {optimal_k}\")"
      ],
      "metadata": {
        "colab": {
          "base_uri": "https://localhost:8080/"
        },
        "id": "iDizyjiTTbye",
        "outputId": "9f0a32f9-7340-4e54-8a77-085d37a9cf46"
      },
      "execution_count": null,
      "outputs": [
        {
          "output_type": "stream",
          "name": "stdout",
          "text": [
            "Optimal number of clusters (k): 9\n"
          ]
        }
      ]
    },
    {
      "cell_type": "code",
      "source": [
        "KM = KMeans(n_clusters=9, random_state=47)\n",
        "cluster = KM.fit_predict(X)"
      ],
      "metadata": {
        "id": "jnCgaoCgROdz"
      },
      "execution_count": null,
      "outputs": []
    },
    {
      "cell_type": "code",
      "source": [
        "print(\"Cluster assignments:\")\n",
        "txt_data['Cluster'] = cluster\n",
        "print(txt_data[['Cln_Articles', 'Cluster']])"
      ],
      "metadata": {
        "colab": {
          "base_uri": "https://localhost:8080/"
        },
        "id": "2cbSJmuYRx0i",
        "outputId": "29f84a65-ab60-4589-affa-1a3ba5bcac1f"
      },
      "execution_count": null,
      "outputs": [
        {
          "output_type": "stream",
          "name": "stdout",
          "text": [
            "Cluster assignments:\n",
            "                                         Cln_Articles  Cluster\n",
            "0   retailers makers foods marketed weight loss ty...        7\n",
            "1   move ozempic theres new drug town eli lillys z...        7\n",
            "2   sept 14 reuters bristol myers squibb bmyn said...        4\n",
            "3   austin wolcott 18 years old pretty sure wouldn...        4\n",
            "4   cancer often referred emperor maladies unyield...        4\n",
            "5   nov 28 reuters us food drug administration fda...        4\n",
            "6   nov 21 reuters beigene 6160hk said tuesday ent...        3\n",
            "7   sept 19 reuters drugmaker beigene 6160hk said ...        3\n",
            "8   brukinsa first btk inhibitor approved follicul...        4\n",
            "9   whether youre looking quick bite eat sitdown e...        5\n",
            "10  federal judge new york dismissed lawsuit accus...        8\n",
            "11  future fast food delivery diners within 12mile...        5\n",
            "12  yum brands topped wall street estimates thirdq...        1\n",
            "13  fancy taco bells nacho fries fastfood chain tw...        6\n",
            "14  taco bell serving new toasted breakfast tacos ...        6\n",
            "15  oct 30 reuters mcdonalds mcdn beat wall street...        1\n",
            "16  whether dip drizzle put chicken nuggets french...        8\n",
            "17  parent company taco bell kfc pizza hut using a...        5\n",
            "18  announced collaboration nike may 2023 strava l...        2\n",
            "19  strava made possible nike run club nrc nike tr...        2\n",
            "20  nike nysenke leader comes consumer sportswear ...        2\n",
            "21  oct 23 reuters unilever ulvrl charity supporti...        8\n",
            "22  london sept 19 reuters nestle said tuesday pic...        5\n",
            "23  get smart news modeled sift free weekly newsle...        2\n",
            "24  editorial note blueprint may earn commission a...        0\n"
          ]
        }
      ]
    },
    {
      "cell_type": "code",
      "source": [
        "txt_data.head()"
      ],
      "metadata": {
        "colab": {
          "base_uri": "https://localhost:8080/",
          "height": 206
        },
        "id": "flVeeuBWZScb",
        "outputId": "e7d674bd-6f8b-42a3-9625-72c3e03cf33f"
      },
      "execution_count": null,
      "outputs": [
        {
          "output_type": "execute_result",
          "data": {
            "text/plain": [
              "                                             Article  \\\n",
              "0  Retailers, the makers of foods marketed for we...   \n",
              "1  Move over, Ozempic — there’s a new drug in tow...   \n",
              "2  Sept 14 (Reuters) - Bristol Myers Squibb (BMY....   \n",
              "3  Austin Wolcott was 18 years old and pretty sur...   \n",
              "4  Cancer, often referred to as the “emperor of a...   \n",
              "\n",
              "                                        Cln_Articles mood_checker  Cluster  \n",
              "0  retailers makers foods marketed weight loss ty...     positive        7  \n",
              "1  move ozempic theres new drug town eli lillys z...     negative        7  \n",
              "2  sept 14 reuters bristol myers squibb bmyn said...     negative        4  \n",
              "3  austin wolcott 18 years old pretty sure wouldn...     negative        4  \n",
              "4  cancer often referred emperor maladies unyield...     negative        4  "
            ],
            "text/html": [
              "\n",
              "  <div id=\"df-1440bf40-0116-4c03-82e9-1357932c7454\" class=\"colab-df-container\">\n",
              "    <div>\n",
              "<style scoped>\n",
              "    .dataframe tbody tr th:only-of-type {\n",
              "        vertical-align: middle;\n",
              "    }\n",
              "\n",
              "    .dataframe tbody tr th {\n",
              "        vertical-align: top;\n",
              "    }\n",
              "\n",
              "    .dataframe thead th {\n",
              "        text-align: right;\n",
              "    }\n",
              "</style>\n",
              "<table border=\"1\" class=\"dataframe\">\n",
              "  <thead>\n",
              "    <tr style=\"text-align: right;\">\n",
              "      <th></th>\n",
              "      <th>Article</th>\n",
              "      <th>Cln_Articles</th>\n",
              "      <th>mood_checker</th>\n",
              "      <th>Cluster</th>\n",
              "    </tr>\n",
              "  </thead>\n",
              "  <tbody>\n",
              "    <tr>\n",
              "      <th>0</th>\n",
              "      <td>Retailers, the makers of foods marketed for we...</td>\n",
              "      <td>retailers makers foods marketed weight loss ty...</td>\n",
              "      <td>positive</td>\n",
              "      <td>7</td>\n",
              "    </tr>\n",
              "    <tr>\n",
              "      <th>1</th>\n",
              "      <td>Move over, Ozempic — there’s a new drug in tow...</td>\n",
              "      <td>move ozempic theres new drug town eli lillys z...</td>\n",
              "      <td>negative</td>\n",
              "      <td>7</td>\n",
              "    </tr>\n",
              "    <tr>\n",
              "      <th>2</th>\n",
              "      <td>Sept 14 (Reuters) - Bristol Myers Squibb (BMY....</td>\n",
              "      <td>sept 14 reuters bristol myers squibb bmyn said...</td>\n",
              "      <td>negative</td>\n",
              "      <td>4</td>\n",
              "    </tr>\n",
              "    <tr>\n",
              "      <th>3</th>\n",
              "      <td>Austin Wolcott was 18 years old and pretty sur...</td>\n",
              "      <td>austin wolcott 18 years old pretty sure wouldn...</td>\n",
              "      <td>negative</td>\n",
              "      <td>4</td>\n",
              "    </tr>\n",
              "    <tr>\n",
              "      <th>4</th>\n",
              "      <td>Cancer, often referred to as the “emperor of a...</td>\n",
              "      <td>cancer often referred emperor maladies unyield...</td>\n",
              "      <td>negative</td>\n",
              "      <td>4</td>\n",
              "    </tr>\n",
              "  </tbody>\n",
              "</table>\n",
              "</div>\n",
              "    <div class=\"colab-df-buttons\">\n",
              "\n",
              "  <div class=\"colab-df-container\">\n",
              "    <button class=\"colab-df-convert\" onclick=\"convertToInteractive('df-1440bf40-0116-4c03-82e9-1357932c7454')\"\n",
              "            title=\"Convert this dataframe to an interactive table.\"\n",
              "            style=\"display:none;\">\n",
              "\n",
              "  <svg xmlns=\"http://www.w3.org/2000/svg\" height=\"24px\" viewBox=\"0 -960 960 960\">\n",
              "    <path d=\"M120-120v-720h720v720H120Zm60-500h600v-160H180v160Zm220 220h160v-160H400v160Zm0 220h160v-160H400v160ZM180-400h160v-160H180v160Zm440 0h160v-160H620v160ZM180-180h160v-160H180v160Zm440 0h160v-160H620v160Z\"/>\n",
              "  </svg>\n",
              "    </button>\n",
              "\n",
              "  <style>\n",
              "    .colab-df-container {\n",
              "      display:flex;\n",
              "      gap: 12px;\n",
              "    }\n",
              "\n",
              "    .colab-df-convert {\n",
              "      background-color: #E8F0FE;\n",
              "      border: none;\n",
              "      border-radius: 50%;\n",
              "      cursor: pointer;\n",
              "      display: none;\n",
              "      fill: #1967D2;\n",
              "      height: 32px;\n",
              "      padding: 0 0 0 0;\n",
              "      width: 32px;\n",
              "    }\n",
              "\n",
              "    .colab-df-convert:hover {\n",
              "      background-color: #E2EBFA;\n",
              "      box-shadow: 0px 1px 2px rgba(60, 64, 67, 0.3), 0px 1px 3px 1px rgba(60, 64, 67, 0.15);\n",
              "      fill: #174EA6;\n",
              "    }\n",
              "\n",
              "    .colab-df-buttons div {\n",
              "      margin-bottom: 4px;\n",
              "    }\n",
              "\n",
              "    [theme=dark] .colab-df-convert {\n",
              "      background-color: #3B4455;\n",
              "      fill: #D2E3FC;\n",
              "    }\n",
              "\n",
              "    [theme=dark] .colab-df-convert:hover {\n",
              "      background-color: #434B5C;\n",
              "      box-shadow: 0px 1px 3px 1px rgba(0, 0, 0, 0.15);\n",
              "      filter: drop-shadow(0px 1px 2px rgba(0, 0, 0, 0.3));\n",
              "      fill: #FFFFFF;\n",
              "    }\n",
              "  </style>\n",
              "\n",
              "    <script>\n",
              "      const buttonEl =\n",
              "        document.querySelector('#df-1440bf40-0116-4c03-82e9-1357932c7454 button.colab-df-convert');\n",
              "      buttonEl.style.display =\n",
              "        google.colab.kernel.accessAllowed ? 'block' : 'none';\n",
              "\n",
              "      async function convertToInteractive(key) {\n",
              "        const element = document.querySelector('#df-1440bf40-0116-4c03-82e9-1357932c7454');\n",
              "        const dataTable =\n",
              "          await google.colab.kernel.invokeFunction('convertToInteractive',\n",
              "                                                    [key], {});\n",
              "        if (!dataTable) return;\n",
              "\n",
              "        const docLinkHtml = 'Like what you see? Visit the ' +\n",
              "          '<a target=\"_blank\" href=https://colab.research.google.com/notebooks/data_table.ipynb>data table notebook</a>'\n",
              "          + ' to learn more about interactive tables.';\n",
              "        element.innerHTML = '';\n",
              "        dataTable['output_type'] = 'display_data';\n",
              "        await google.colab.output.renderOutput(dataTable, element);\n",
              "        const docLink = document.createElement('div');\n",
              "        docLink.innerHTML = docLinkHtml;\n",
              "        element.appendChild(docLink);\n",
              "      }\n",
              "    </script>\n",
              "  </div>\n",
              "\n",
              "\n",
              "<div id=\"df-8ab0a4c8-f11e-411d-86ed-a6b8177b4bd3\">\n",
              "  <button class=\"colab-df-quickchart\" onclick=\"quickchart('df-8ab0a4c8-f11e-411d-86ed-a6b8177b4bd3')\"\n",
              "            title=\"Suggest charts\"\n",
              "            style=\"display:none;\">\n",
              "\n",
              "<svg xmlns=\"http://www.w3.org/2000/svg\" height=\"24px\"viewBox=\"0 0 24 24\"\n",
              "     width=\"24px\">\n",
              "    <g>\n",
              "        <path d=\"M19 3H5c-1.1 0-2 .9-2 2v14c0 1.1.9 2 2 2h14c1.1 0 2-.9 2-2V5c0-1.1-.9-2-2-2zM9 17H7v-7h2v7zm4 0h-2V7h2v10zm4 0h-2v-4h2v4z\"/>\n",
              "    </g>\n",
              "</svg>\n",
              "  </button>\n",
              "\n",
              "<style>\n",
              "  .colab-df-quickchart {\n",
              "      --bg-color: #E8F0FE;\n",
              "      --fill-color: #1967D2;\n",
              "      --hover-bg-color: #E2EBFA;\n",
              "      --hover-fill-color: #174EA6;\n",
              "      --disabled-fill-color: #AAA;\n",
              "      --disabled-bg-color: #DDD;\n",
              "  }\n",
              "\n",
              "  [theme=dark] .colab-df-quickchart {\n",
              "      --bg-color: #3B4455;\n",
              "      --fill-color: #D2E3FC;\n",
              "      --hover-bg-color: #434B5C;\n",
              "      --hover-fill-color: #FFFFFF;\n",
              "      --disabled-bg-color: #3B4455;\n",
              "      --disabled-fill-color: #666;\n",
              "  }\n",
              "\n",
              "  .colab-df-quickchart {\n",
              "    background-color: var(--bg-color);\n",
              "    border: none;\n",
              "    border-radius: 50%;\n",
              "    cursor: pointer;\n",
              "    display: none;\n",
              "    fill: var(--fill-color);\n",
              "    height: 32px;\n",
              "    padding: 0;\n",
              "    width: 32px;\n",
              "  }\n",
              "\n",
              "  .colab-df-quickchart:hover {\n",
              "    background-color: var(--hover-bg-color);\n",
              "    box-shadow: 0 1px 2px rgba(60, 64, 67, 0.3), 0 1px 3px 1px rgba(60, 64, 67, 0.15);\n",
              "    fill: var(--button-hover-fill-color);\n",
              "  }\n",
              "\n",
              "  .colab-df-quickchart-complete:disabled,\n",
              "  .colab-df-quickchart-complete:disabled:hover {\n",
              "    background-color: var(--disabled-bg-color);\n",
              "    fill: var(--disabled-fill-color);\n",
              "    box-shadow: none;\n",
              "  }\n",
              "\n",
              "  .colab-df-spinner {\n",
              "    border: 2px solid var(--fill-color);\n",
              "    border-color: transparent;\n",
              "    border-bottom-color: var(--fill-color);\n",
              "    animation:\n",
              "      spin 1s steps(1) infinite;\n",
              "  }\n",
              "\n",
              "  @keyframes spin {\n",
              "    0% {\n",
              "      border-color: transparent;\n",
              "      border-bottom-color: var(--fill-color);\n",
              "      border-left-color: var(--fill-color);\n",
              "    }\n",
              "    20% {\n",
              "      border-color: transparent;\n",
              "      border-left-color: var(--fill-color);\n",
              "      border-top-color: var(--fill-color);\n",
              "    }\n",
              "    30% {\n",
              "      border-color: transparent;\n",
              "      border-left-color: var(--fill-color);\n",
              "      border-top-color: var(--fill-color);\n",
              "      border-right-color: var(--fill-color);\n",
              "    }\n",
              "    40% {\n",
              "      border-color: transparent;\n",
              "      border-right-color: var(--fill-color);\n",
              "      border-top-color: var(--fill-color);\n",
              "    }\n",
              "    60% {\n",
              "      border-color: transparent;\n",
              "      border-right-color: var(--fill-color);\n",
              "    }\n",
              "    80% {\n",
              "      border-color: transparent;\n",
              "      border-right-color: var(--fill-color);\n",
              "      border-bottom-color: var(--fill-color);\n",
              "    }\n",
              "    90% {\n",
              "      border-color: transparent;\n",
              "      border-bottom-color: var(--fill-color);\n",
              "    }\n",
              "  }\n",
              "</style>\n",
              "\n",
              "  <script>\n",
              "    async function quickchart(key) {\n",
              "      const quickchartButtonEl =\n",
              "        document.querySelector('#' + key + ' button');\n",
              "      quickchartButtonEl.disabled = true;  // To prevent multiple clicks.\n",
              "      quickchartButtonEl.classList.add('colab-df-spinner');\n",
              "      try {\n",
              "        const charts = await google.colab.kernel.invokeFunction(\n",
              "            'suggestCharts', [key], {});\n",
              "      } catch (error) {\n",
              "        console.error('Error during call to suggestCharts:', error);\n",
              "      }\n",
              "      quickchartButtonEl.classList.remove('colab-df-spinner');\n",
              "      quickchartButtonEl.classList.add('colab-df-quickchart-complete');\n",
              "    }\n",
              "    (() => {\n",
              "      let quickchartButtonEl =\n",
              "        document.querySelector('#df-8ab0a4c8-f11e-411d-86ed-a6b8177b4bd3 button');\n",
              "      quickchartButtonEl.style.display =\n",
              "        google.colab.kernel.accessAllowed ? 'block' : 'none';\n",
              "    })();\n",
              "  </script>\n",
              "</div>\n",
              "\n",
              "    </div>\n",
              "  </div>\n"
            ],
            "application/vnd.google.colaboratory.intrinsic+json": {
              "type": "dataframe",
              "variable_name": "txt_data",
              "summary": "{\n  \"name\": \"txt_data\",\n  \"rows\": 25,\n  \"fields\": [\n    {\n      \"column\": \"Article\",\n      \"properties\": {\n        \"dtype\": \"string\",\n        \"num_unique_values\": 25,\n        \"samples\": [\n          \"BRUKINSA is the first and only BTK inhibitor approved for follicular lymphoma in the European Union\\n\\nApproval was based on results from the ROSEWOOD trial in which BRUKINSA plus the anti-CD20 monoclonal antibody obinutuzumab achieved higher overall response rate compared to obinutuzumab alone\\n\\nBeiGene, Ltd. BGNE HKEX: 06160, SSE: 688235))), a global biotechnology company, today announced that the European Commission (EC) has granted marketing authorization for BRUKINSA\\u00ae (zanubrutinib) in combination with obinutuzumab for the treatment of adult patients with relapsed or refractory (R/R) follicular lymphoma (FL) who have received at least two prior lines of systemic therapy. This marks the fourth indication in the European Union (EU) for BRUKINSA, which is now approved to treat more patient populations in the EU than any other Bruton's tyrosine kinase (BTK) inhibitor.\\n\\n\\\"With this approval, we are excited to announce that BRUKINSA will become available as a treatment option for patients with follicular lymphoma in the European Union. BRUKINSA is now the first BTK inhibitor approved in this indication and has the broadest label of any medicine in its class globally,\\\" said Mehrdad Mobasher, M.D., M.P.H., Chief Medical Officer, Hematology at BeiGene. \\\"This milestone marks a significant advancement in our efforts to combat the disease by providing a new and effective treatment option to patients who have either failed to respond to initial therapies or have experienced a relapse.\\\"\\n\\nThe EC approval is based on positive results from ROSEWOOD (NCT03332017), a global, randomized, open-label Phase 2 study of BRUKINSA plus obinutuzumab compared with obinutuzumab alone in 217 patients with R/R FL who received at least two prior lines of systemic therapy. In the study, the overall response rate was 69.0% in the BRUKINSA plus obinutuzumab arm versus 45.8% in the obinutuzumab arm (P = 0.0012), with a median follow-up of approximately 20 months. Responses were durable with 18-month landmark duration of response (DOR) of 69.3% in the BRUKINSA combination arm.\\n\\nAdditionally, the median progression-free survival (PFS) for patients treated with BRUKINSA plus obinutuzumab was 28.0 months, compared to 10.4 months for patients treated with only obinutuzumab (HR: 0.50 [95% CI: 0.33, 0.75]; P = 0.0007).\\n\\nBRUKINSA plus obinutuzumab was generally well-tolerated, with safety results consistent with previous studies of both medicines.\\n\\n\\\"People living with follicular lymphoma often experience relapse and have poor responses to subsequent lines of therapy, making it imperative to improve outcomes,\\\" said Pier Luigi Zinzani, M.D., Ph.D., Full Professor of Haematology at the Institute of Haematology \\\"Ser\\u00e0gnoli,\\\" University of Bologna, Italy. \\\"The results from the ROSEWOOD trial demonstrated a significant clinical benefit of BRUKINSA plus obinutuzumab for patients with relapsed or refractory follicular lymphoma. BRUKINSA is a chemotherapy-free, oral treatment option that can be a practice-changing option for eligible patients with relapsed or refractory follicular lymphoma.\\\"\\n\\nIn addition to R/R FL, BRUKINSA is approved in the EU as monotherapy for the treatment of adult patients with chronic lymphocytic leukemia, for adult patients with marginal zone lymphoma who have received at least one prior anti-CD20-based therapy, and for adult patients with Waldenstr\\u00f6m's macroglobulinemia who have received at least one prior therapy, or in first-line treatment for patients unsuitable for chemo-immunotherapy.\\n\\nGerwin Winter, Senior Vice President, Head of Europe at BeiGene noted, \\\"We have made great progress in making BRUKINSA available to eligible patients with hematological malignancies globally, and this approval is a testament to our continued commitment to bring this much needed treatment option to patients in Europe and around the world. We hope that this approval will have a positive impact on the lives of many people living with follicular lymphoma in the European Union and their families.\\\"\\n\\nBeiGene currently has submissions for BRUKINSA in R/R FL under review by regulatory authorities including in the United States (U.S.) and China. Additionally, BeiGene's submission for BRUKINSA in R/R FL is under review by regulatory authorities in Canada, Switzerland, and the United Kingdom as part of the Access Consortium New Active Substance Work-sharing Initiative (NASWSI).\\n\\nBRUKINSA is approved in more than 65 markets, including the U.S., China, EU, Great Britain, Canada, Australia, South Korea, and Switzerland in selected indications and under development for additional indications globally. Product information may differ from country to country. Prescribers should consult the product information approved in their respective countries. The global BRUKINSA development program includes more than 5,000 subjects enrolled to date in 29 countries and regions.\\n\\nThe Summary of Product Characteristics for BRUKINSA can be found here: https://www.ema.europa.eu/en/documents/product-information/brukinsa-epar-product-information_en.pdf\\n\\nFL is the second most common type of non-Hodgkin lymphoma (NHL), accounting for 22 percent of all NHL cases.i Across Europe, over 122,000 people each year are diagnosed with NHL.ii FL is a slow-growing cancer but can become more aggressive over time. While FL remains incurable, people with the condition can live a long time. The five-year survival rate is about 90 percent, and approximately half of people diagnosed with FL can live with the disease for nearly 20 years.iii,iv\\n\\nBRUKINSA is a small molecule inhibitor of Bruton's tyrosine kinase (BTK) discovered by BeiGene scientists that is currently being evaluated globally in a broad clinical program as a monotherapy and in combination with other therapies to treat various B-cell malignancies. Because new BTK is continuously synthesized, BRUKINSA was specifically designed to deliver complete and sustained inhibition of the BTK protein by optimizing bioavailability, half-life, and selectivity. With differentiated pharmacokinetics compared to other approved BTK inhibitors, BRUKINSA has been demonstrated to inhibit the proliferation of malignant B cells within a number of disease relevant tissues.\\n\\nBeiGene is a global biotechnology company that is discovering and developing innovative oncology treatments that are more affordable and accessible to cancer patients worldwide. With a broad portfolio, we are expediting development of our diverse pipeline of novel therapeutics through our internal capabilities and collaborations. We are committed to radically improving access to medicines for far more patients who need them. Our growing global team of more than 10,000 colleagues spans five continents, with administrative offices in Basel, Beijing, and Cambridge, U.S. To learn more about BeiGene, please visit www.beigene.com and follow us on LinkedIn and X (formerly known as Twitter).\\n\\nThis press release contains forward-looking statements within the meaning of the Private Securities Litigation Reform Act of 1995 and other federal securities laws, including statements regarding BeiGene's ability to provide effective treatment options to patients with FL; whether BRUKINSA is a practice-changing option for eligible patients; the effect, if any, that the EC approval of BRUKINSA for R/R FL will have on people living with R/R FL and their families; BeiGene's advancement, anticipated clinical development, regulatory submissions and commercialization of zanubrutinib, particularly as a treatment for R/R FL; and BeiGene's plans, commitments, aspirations, and goals under the heading \\\"About BeiGene.\\\" Actual results may differ materially from those indicated in the forward-looking statements as a result of various important factors, including BeiGene's ability to demonstrate the efficacy and safety of its drug candidates; the clinical results for its drug candidates, which may not support further development or marketing approval; actions of regulatory agencies, which may affect the initiation, timing and progress of clinical trials and marketing approval; BeiGene's ability to achieve commercial success for its marketed medicines and drug candidates, if approved; BeiGene's ability to obtain and maintain protection of intellectual property for its medicines and technology; BeiGene's reliance on third parties to conduct drug development, manufacturing, commercialization, and other services; BeiGene's limited experience in obtaining regulatory approvals and commercializing pharmaceutical products and its ability to obtain additional funding for operations and to complete the development of its drug candidates and achieve and maintain profitability; and those risks more fully discussed in the section entitled \\\"Risk Factors\\\" in BeiGene's most recent quarterly report on Form 10-Q, as well as discussions of potential risks, uncertainties, and other important factors in BeiGene's subsequent filings with the U.S. Securities and Exchange Commission. All information in this press release is as of the date of this press release, and BeiGene undertakes no duty to update such information unless required by law.\",\n          \"Whether you dip it, drizzle it, or put it on chicken nuggets or french fries, McDonald\\u2019s sauce assortment is expanding this fall.\\n\\nThe fast food chain announced Tuesday that it's adding two new limited-edition sauces to its U.S. menu in two weeks.\\n\\nThe new sauces \\u2014 McDonald\\u2019s Sweet & Spicy Jam and McDonald\\u2019s MamboSauce \\u2014 will hit the menu on Oct. 9, according to a news release from the company.\\n\\nAre whoppers really too small?Burger King must face whopper of a lawsuit alleging burgers are too small, says judge\\n\\nWhat are McDonald's two new sauces?\\n\\nHere's more about the new limited-edition duo:\\n\\u2022 Sweet & Spicy Jam: The chain describes it as a breakfast-inspired \\\"jammy red pepper dipping sauce with a tongue-numbing Szechuan peppercorn kick.\\\" It also includes apple cider vinegar and cayenne pepper.\\n\\u2022 MamboSauce: This one is described by McD's as \\\"a tomato-based, sweet, spicy and vinegary sauce, inspired by an Washington, D.C. area sauce staple.\\\"\\n\\nThe company came up with the new sauces by exploring \\\"the incredible tastes and flavors found in communities across the country,\\\" Tariq Hassan, chief marking and customer experience officer at the chain, said in a news release.\\n\\nThe sauces \\\"live at the intersection of flavor and culture-pulling from decades of rich food history and tradition in local restaurants and home kitchens, and bringing the delicious spice, sweetness and kick of heat we know today\\u2019s customers are craving,\\\" Hassan said.\\n\\nMcD's said it's teaming up with six foodie content creators to review the sauces so they can share pairing suggestion ideas with customers on their respective TikTok channels.\\n\\nThe creators are: @Mr.Eats305, @sharidyonne, @santanakeish, @misslegarda, @natelovlogs and @blackgirlsexploredc.\\n\\n\\\"We\\u2019re passing the mic to some of our biggest sauce fans \\u2014 food content creators \\u2014 to get their authentic reactions from the very first, drizzle, dip and bite,\\\" Hassan said.\\n\\nThe creators are: @Mr.Eats305, @sharidyonne, @santanakeish, @misslegarda, @natelovlogs, and @blackgirlsexploredc.\\n\\nNatalie Neysa Alund is a senior correspondent for USA TODAY. Reach her at nalund@usatoday.com and follow her on X, the platform formerly known as Twitter @nataliealund.\",\n          \"Retailers, the makers of foods marketed for weight loss, and other types of companies could see knock-on effects from the rise of diabetes and weight loss drugs like Ozempic.\\n\\nAs they do every summer, publicly traded companies posted their second-quarter results while Americans were baring their bodies on the beach. But this year, the timing was apt. On several earnings calls in August, chief executives reassured investors that the Ozempic revolution had not left them in the dust, and that they could somehow share in the blazing success of new diabetes and weight loss drugs. \\u201cIt puts us in a good position to be a solution for those who are on the drugs,\\u201d said Dan R. Chard, the chief executive of Medifast, which makes diet products like shakes and protein bars, adding: \\u201cThey\\u2019re looking for guidance.\\u201d He told analysts this even while explaining that new-generation drugs had helped pummel earnings, down 34.7 percent year on year. \\u201cWe will continue to study this,\\u201d Michael Johnson, the chief executive of the nutritional supplement maker Herbalife, told investors. \\u201cAnd when we see an opportunity to capitalize on it, we will.\\u201d In theory, that opportunity \\u2014 both for making profits and for losing fortunes \\u2014 could be vast not only for the companies behind these drugs but also for some in completely different industries.\\n\\nKnown as GLP-1 drugs, the medications are already driving big profits. Novo Nordisk makes both Ozempic, which has been approved only for Type 2 diabetes, and its close relative Wegovy, which has been approved for weight loss. They mimic a glucagon-like peptide that regulates appetite in the brain, leaving people feeling sated for hours. Together, they helped send Novo\\u2019s earnings rocketing up 32 percent in the first half of this year, and Novo\\u2019s market value is now larger than the entire Danish economy. Eli Lilly\\u2019s sales surged 28 percent in the second quarter, thanks to another diabetes drug, Mounjaro, which the Food and Drug Administration may approve for weight loss this year. And the full potential isn\\u2019t even clear yet. The market for weight loss drugs is huge: There are roughly 750 million obese people worldwide, including about 42 percent of adults in the United States, where obesity-related illnesses incur billions of dollars in health care costs each year. But Novo says GLP-1 drugs could eventually have other uses, like helping prevent cardiovascular disease among obese adults. There are signs they could treat addiction and even Alzheimer\\u2019s, too. \\u201cThe market potential is very, very significant,\\u201d Novo\\u2019s chief financial officer, Karsten Knudsen, told me when I visited the company in June. \\u201cWe\\u2019re operating in kind of unusual territory.\\u201d\\n\\nThe ripple effects are widening. Retailers like Walmart, Kroger and Rite Aid say GLP-1 prescriptions are bringing more people into stores, where they make other purchases. Walmart\\u2019s chief executive, Doug McMillon, told analysts in August that its executives \\u201cexpect consumables, and health and wellness, primarily due to the popularity of some GLP-1 drugs, to grow as a percent of total.\\u201d Medtronic\\u2019s chief executive, Geoff Martha, said the company had seen a \\u201cmodest\\u201d dip in bariatric surgery, presumably as people opted for weight loss drugs instead. And some analysts believe the drugs could disrupt the American diet. \\u201cIf you\\u2019re eating fast food every day, you\\u2019ll probably continue to eat fast food every day,\\u201d James van Geelen of Citrinas Capital Management said on Bloomberg\\u2019s \\u201cOdd Lots\\u201d podcast. \\u201cYou will just eat a lot less of it.\\u201d Still, there is room for other approaches to fighting obesity. \\u201cThese drugs are game changers, but with an asterisk,\\u201d said David Ludwig, an obesity specialist and pediatrics professor at Harvard Medical School. (The drugs come with a long list of side effects.) \\u201cEven if you can reduce weight across the population with drugs, it\\u2019s not going to eliminate the risks of a poor diet.\\u201d Flush with cash, Novo agrees. \\u201cWe need to be looking at what\\u2019s the next thing,\\u201d its executive vice president for commercial strategy Camilla Sylvest, told me. In June, the company launched an obesity prevention unit near Copenhagen, to research how to stop the disease before people need to take drugs to lose weight. \\u2014 Vivienne Walt\\n\\nThe U.S. labor market begins to look like its old self. Employers added 187,000 jobs in August, the Labor Department reported Friday, and unemployment rose to 3.8 percent as the economy continued to lose momentum built up after pandemic lockdowns. Commerce Secretary Gina Raimondo visits China. She had the tricky task of promoting trade between the two superpowers while holding firm on technology export limits imposed in the name of American national security. The two countries agreed to create new dialogues, including a working group for commercial issues. The White House names the first drugs set for Medicare price negotiations. The long-awaited list of 10 medicines will be subject to a landmark new program meant to reduce costs for Medicare. Drugmakers have pushed back against the plan, including in court, and Republicans have criticized the initiative as government overreach. UBS reports a $29 billion quarterly profit, with an asterisk. The huge gain \\u2014 the biggest in banking history \\u2014 stems from the bank\\u2019s acquisition of its rival Credit Suisse this spring for about $3.2 billion, a steep discount that is skewing UBS\\u2019s results. But it belies the challenges that UBS faces as it moves to complete the largest takeover of a bank since the 2008 financial crisis. When Emily Weiss stepped down last year as the chief executive of Glossier, the skin care and beauty brand she founded in 2014, some called it the end of the \\u201cgirlboss.\\u201d That archetype \\u2014 of media-savvy female founders with venture-darling, millennial-focused start-ups \\u2014 had been propelled by \\u201c#Girlboss,\\u201d the Nasty Girl founder Sophia Amoruso\\u2019s 2014 memoir.\\n\\nGlossier, with its direct-to-consumer model and voice-y website, changed the way women buy makeup, eventually passing a $1 billion valuation. But the brand stumbled as it struggled to move into brick-and-mortar retail; faced criticism from retail employees who alleged a toxic, racist working environment; and shelved projects like a makeup line that departed from its dewy, barely-there look. DealBook spoke to Marisa Meltzer, author of the upcoming book \\u201cGlossy: Ambition, Beauty, and the Inside Story of Emily Weiss\\u2019s Glossier,\\u201d about what lessons we might glean from Weiss and the #Girlboss movement. This interview has been edited and condensed for clarity. Can you contextualize the #Girlboss movement? It was pretty offensive and diminutive. No one except for Sophia was calling themselves out as a girlboss. But it was also something that benefited them because it attracted interest. It was a way for them to get press about their businesses that wasn\\u2019t the typical things that female founders and C.E.O.s sometimes had to do, like a fashion spread.\\n\\nThere was a big debate at the time over whether the press would have covered the scandals at companies like Outdoor Voices, Man Repeller and Glossier differently if they had men at the helm. What do you think? I think there was a bit of a thirst for blood. These women had been propped up in a way that was kind of annoying \\u2014 I\\u2019m sure it was annoying to them, too. Some of those companies had real problems, like being sued over firing pregnant employees. And other companies had, like Glossier, an accusation of having a workplace, largely for their retail employees, that wasn\\u2019t ideal. That\\u2019s different than criminal behavior. The reality is these companies weren\\u2019t the same. The women at their helms were not all the same. And they weren\\u2019t making the same mistakes. And they also didn\\u2019t have the same level of success. What happens to Glossier now? Glossier seems to have taken the time since Emily stepped down to re-evaluate. They decided to really belatedly go into retail. They launched in Sephora last February. The larger task that they\\u2019re trying to do is make the company in better shape for an exit.\"\n        ],\n        \"semantic_type\": \"\",\n        \"description\": \"\"\n      }\n    },\n    {\n      \"column\": \"Cln_Articles\",\n      \"properties\": {\n        \"dtype\": \"string\",\n        \"num_unique_values\": 25,\n        \"samples\": [\n          \"brukinsa first btk inhibitor approved follicular lymphoma european union approval based results rosewood trial brukinsa plus anticd20 monoclonal antibody obinutuzumab achieved higher overall response rate compared obinutuzumab alone beigene ltd bgne hkex 06160 sse 688235 global biotechnology company today announced european commission ec granted marketing authorization brukinsa zanubrutinib combination obinutuzumab treatment adult patients relapsed refractory rr follicular lymphoma fl received least two prior lines systemic therapy marks fourth indication european union eu brukinsa approved treat patient populations eu brutons tyrosine kinase btk inhibitor approval excited announce brukinsa become available treatment option patients follicular lymphoma european union brukinsa first btk inhibitor approved indication broadest label medicine class globally said mehrdad mobasher md mph chief medical officer hematology beigene milestone marks significant advancement efforts combat disease providing new effective treatment option patients either failed respond initial therapies experienced relapse ec approval based positive results rosewood nct03332017 global randomized openlabel phase 2 study brukinsa plus obinutuzumab compared obinutuzumab alone 217 patients rr fl received least two prior lines systemic therapy study overall response rate 690 brukinsa plus obinutuzumab arm versus 458 obinutuzumab arm p 00012 median followup approximately 20 months responses durable 18month landmark duration response dor 693 brukinsa combination arm additionally median progressionfree survival pfs patients treated brukinsa plus obinutuzumab 280 months compared 104 months patients treated obinutuzumab hr 050 95 ci 033 075 p 00007 brukinsa plus obinutuzumab generally welltolerated safety results consistent previous studies medicines people living follicular lymphoma often experience relapse poor responses subsequent lines therapy making imperative improve outcomes said pier luigi zinzani md phd full professor haematology institute haematology ser\\u00e0gnoli university bologna italy results rosewood trial demonstrated significant clinical benefit brukinsa plus obinutuzumab patients relapsed refractory follicular lymphoma brukinsa chemotherapyfree oral treatment option practicechanging option eligible patients relapsed refractory follicular lymphoma addition rr fl brukinsa approved eu monotherapy treatment adult patients chronic lymphocytic leukemia adult patients marginal zone lymphoma received least one prior anticd20based therapy adult patients waldenstr\\u00f6ms macroglobulinemia received least one prior therapy firstline treatment patients unsuitable chemoimmunotherapy gerwin winter senior vice president head europe beigene noted made great progress making brukinsa available eligible patients hematological malignancies globally approval testament continued commitment bring much needed treatment option patients europe around world hope approval positive impact lives many people living follicular lymphoma european union families beigene currently submissions brukinsa rr fl review regulatory authorities including united states us china additionally beigenes submission brukinsa rr fl review regulatory authorities canada switzerland united kingdom part access consortium new active substance worksharing initiative naswsi brukinsa approved 65 markets including us china eu great britain canada australia south korea switzerland selected indications development additional indications globally product information may differ country country prescribers consult product information approved respective countries global brukinsa development program includes 5000 subjects enrolled date 29 countries regions summary product characteristics brukinsa found httpswwwemaeuropaeuendocumentsproductinformationbrukinsaeparproductinformation_enpdf fl second common type nonhodgkin lymphoma nhl accounting 22 percent nhl casesi across europe 122000 people year diagnosed nhlii fl slowgrowing cancer become aggressive time fl remains incurable people condition live long time fiveyear survival rate 90 percent approximately half people diagnosed fl live disease nearly 20 yearsiiiiv brukinsa small molecule inhibitor brutons tyrosine kinase btk discovered beigene scientists currently evaluated globally broad clinical program monotherapy combination therapies treat various bcell malignancies new btk continuously synthesized brukinsa specifically designed deliver complete sustained inhibition btk protein optimizing bioavailability halflife selectivity differentiated pharmacokinetics compared approved btk inhibitors brukinsa demonstrated inhibit proliferation malignant b cells within number disease relevant tissues beigene global biotechnology company discovering developing innovative oncology treatments affordable accessible cancer patients worldwide broad portfolio expediting development diverse pipeline novel therapeutics internal capabilities collaborations committed radically improving access medicines far patients need growing global team 10000 colleagues spans five continents administrative offices basel beijing cambridge us learn beigene please visit wwwbeigenecom follow us linkedin x formerly known twitter press release contains forwardlooking statements within meaning private securities litigation reform act 1995 federal securities laws including statements regarding beigenes ability provide effective treatment options patients fl whether brukinsa practicechanging option eligible patients effect ec approval brukinsa rr fl people living rr fl families beigenes advancement anticipated clinical development regulatory submissions commercialization zanubrutinib particularly treatment rr fl beigenes plans commitments aspirations goals heading beigene actual results may differ materially indicated forwardlooking statements result various important factors including beigenes ability demonstrate efficacy safety drug candidates clinical results drug candidates may support development marketing approval actions regulatory agencies may affect initiation timing progress clinical trials marketing approval beigenes ability achieve commercial success marketed medicines drug candidates approved beigenes ability obtain maintain protection intellectual property medicines technology beigenes reliance third parties conduct drug development manufacturing commercialization services beigenes limited experience obtaining regulatory approvals commercializing pharmaceutical products ability obtain additional funding operations complete development drug candidates achieve maintain profitability risks fully discussed section entitled risk factors beigenes recent quarterly report form 10q well discussions potential risks uncertainties important factors beigenes subsequent filings us securities exchange commission information press release date press release beigene undertakes duty update information unless required law\",\n          \"whether dip drizzle put chicken nuggets french fries mcdonalds sauce assortment expanding fall fast food chain announced tuesday adding two new limitededition sauces us menu two weeks new sauces mcdonalds sweet spicy jam mcdonalds mambosauce hit menu oct 9 according news release company whoppers really smallburger king must face whopper lawsuit alleging burgers small says judge mcdonalds two new sauces heres new limitededition duo sweet spicy jam chain describes breakfastinspired jammy red pepper dipping sauce tonguenumbing szechuan peppercorn kick also includes apple cider vinegar cayenne pepper mambosauce one described mcds tomatobased sweet spicy vinegary sauce inspired washington dc area sauce staple company came new sauces exploring incredible tastes flavors found communities across country tariq hassan chief marking customer experience officer chain said news release sauces live intersection flavor culturepulling decades rich food history tradition local restaurants home kitchens bringing delicious spice sweetness kick heat know todays customers craving hassan said mcds said teaming six foodie content creators review sauces share pairing suggestion ideas customers respective tiktok channels creators mreats305 sharidyonne santanakeish misslegarda natelovlogs blackgirlsexploredc passing mic biggest sauce fans food content creators get authentic reactions first drizzle dip bite hassan said creators mreats305 sharidyonne santanakeish misslegarda natelovlogs blackgirlsexploredc natalie neysa alund senior correspondent usa today reach nalundusatodaycom follow x platform formerly known twitter nataliealund\",\n          \"retailers makers foods marketed weight loss types companies could see knockon effects rise diabetes weight loss drugs like ozempic every summer publicly traded companies posted secondquarter results americans baring bodies beach year timing apt several earnings calls august chief executives reassured investors ozempic revolution left dust could somehow share blazing success new diabetes weight loss drugs puts us good position solution drugs said dan r chard chief executive medifast makes diet products like shakes protein bars adding theyre looking guidance told analysts even explaining newgeneration drugs helped pummel earnings 347 percent year year continue study michael johnson chief executive nutritional supplement maker herbalife told investors see opportunity capitalize theory opportunity making profits losing fortunes could vast companies behind drugs also completely different industries known glp1 drugs medications already driving big profits novo nordisk makes ozempic approved type 2 diabetes close relative wegovy approved weight loss mimic glucagonlike peptide regulates appetite brain leaving people feeling sated hours together helped send novos earnings rocketing 32 percent first half year novos market value larger entire danish economy eli lillys sales surged 28 percent second quarter thanks another diabetes drug mounjaro food drug administration may approve weight loss year full potential isnt even clear yet market weight loss drugs huge roughly 750 million obese people worldwide including 42 percent adults united states obesityrelated illnesses incur billions dollars health care costs year novo says glp1 drugs could eventually uses like helping prevent cardiovascular disease among obese adults signs could treat addiction even alzheimers market potential significant novos chief financial officer karsten knudsen told visited company june operating kind unusual territory ripple effects widening retailers like walmart kroger rite aid say glp1 prescriptions bringing people stores make purchases walmarts chief executive doug mcmillon told analysts august executives expect consumables health wellness primarily due popularity glp1 drugs grow percent total medtronics chief executive geoff martha said company seen modest dip bariatric surgery presumably people opted weight loss drugs instead analysts believe drugs could disrupt american diet youre eating fast food every day youll probably continue eat fast food every day james van geelen citrinas capital management said bloombergs odd lots podcast eat lot less still room approaches fighting obesity drugs game changers asterisk said david ludwig obesity specialist pediatrics professor harvard medical school drugs come long list side effects even reduce weight across population drugs going eliminate risks poor diet flush cash novo agrees need looking whats next thing executive vice president commercial strategy camilla sylvest told june company launched obesity prevention unit near copenhagen research stop disease people need take drugs lose weight vivienne walt us labor market begins look like old self employers added 187000 jobs august labor department reported friday unemployment rose 38 percent economy continued lose momentum built pandemic lockdowns commerce secretary gina raimondo visits china tricky task promoting trade two superpowers holding firm technology export limits imposed name american national security two countries agreed create new dialogues including working group commercial issues white house names first drugs set medicare price negotiations longawaited list 10 medicines subject landmark new program meant reduce costs medicare drugmakers pushed back plan including court republicans criticized initiative government overreach ubs reports 29 billion quarterly profit asterisk huge gain biggest banking history stems banks acquisition rival credit suisse spring 32 billion steep discount skewing ubss results belies challenges ubs faces moves complete largest takeover bank since 2008 financial crisis emily weiss stepped last year chief executive glossier skin care beauty brand founded 2014 called end girlboss archetype mediasavvy female founders venturedarling millennialfocused startups propelled girlboss nasty girl founder sophia amorusos 2014 memoir glossier directtoconsumer model voicey website changed way women buy makeup eventually passing 1 billion valuation brand stumbled struggled move brickandmortar retail faced criticism retail employees alleged toxic racist working environment shelved projects like makeup line departed dewy barelythere look dealbook spoke marisa meltzer author upcoming book glossy ambition beauty inside story emily weisss glossier lessons might glean weiss girlboss movement interview edited condensed clarity contextualize girlboss movement pretty offensive diminutive one except sophia calling girlboss also something benefited attracted interest way get press businesses wasnt typical things female founders ceos sometimes like fashion spread big debate time whether press would covered scandals companies like outdoor voices man repeller glossier differently men helm think think bit thirst blood women propped way kind annoying im sure annoying companies real problems like sued firing pregnant employees companies like glossier accusation workplace largely retail employees wasnt ideal thats different criminal behavior reality companies werent women helms werent making mistakes also didnt level success happens glossier glossier seems taken time since emily stepped reevaluate decided really belatedly go retail launched sephora last february larger task theyre trying make company better shape exit\"\n        ],\n        \"semantic_type\": \"\",\n        \"description\": \"\"\n      }\n    },\n    {\n      \"column\": \"mood_checker\",\n      \"properties\": {\n        \"dtype\": \"category\",\n        \"num_unique_values\": 2,\n        \"samples\": [\n          \"negative\",\n          \"positive\"\n        ],\n        \"semantic_type\": \"\",\n        \"description\": \"\"\n      }\n    },\n    {\n      \"column\": \"Cluster\",\n      \"properties\": {\n        \"dtype\": \"int32\",\n        \"num_unique_values\": 9,\n        \"samples\": [\n          2,\n          4\n        ],\n        \"semantic_type\": \"\",\n        \"description\": \"\"\n      }\n    }\n  ]\n}"
            }
          },
          "metadata": {},
          "execution_count": 21
        }
      ]
    },
    {
      "cell_type": "code",
      "source": [
        "# !pip install transformers"
      ],
      "metadata": {
        "colab": {
          "base_uri": "https://localhost:8080/"
        },
        "id": "D03SkcdpV3do",
        "outputId": "b1c6466d-f484-48f6-a5db-d9a6c5fe052f"
      },
      "execution_count": null,
      "outputs": [
        {
          "output_type": "stream",
          "name": "stdout",
          "text": [
            "Requirement already satisfied: transformers in /usr/local/lib/python3.10/dist-packages (4.40.1)\n",
            "Requirement already satisfied: filelock in /usr/local/lib/python3.10/dist-packages (from transformers) (3.14.0)\n",
            "Requirement already satisfied: huggingface-hub<1.0,>=0.19.3 in /usr/local/lib/python3.10/dist-packages (from transformers) (0.20.3)\n",
            "Requirement already satisfied: numpy>=1.17 in /usr/local/lib/python3.10/dist-packages (from transformers) (1.25.2)\n",
            "Requirement already satisfied: packaging>=20.0 in /usr/local/lib/python3.10/dist-packages (from transformers) (24.0)\n",
            "Requirement already satisfied: pyyaml>=5.1 in /usr/local/lib/python3.10/dist-packages (from transformers) (6.0.1)\n",
            "Requirement already satisfied: regex!=2019.12.17 in /usr/local/lib/python3.10/dist-packages (from transformers) (2023.12.25)\n",
            "Requirement already satisfied: requests in /usr/local/lib/python3.10/dist-packages (from transformers) (2.31.0)\n",
            "Requirement already satisfied: tokenizers<0.20,>=0.19 in /usr/local/lib/python3.10/dist-packages (from transformers) (0.19.1)\n",
            "Requirement already satisfied: safetensors>=0.4.1 in /usr/local/lib/python3.10/dist-packages (from transformers) (0.4.3)\n",
            "Requirement already satisfied: tqdm>=4.27 in /usr/local/lib/python3.10/dist-packages (from transformers) (4.66.2)\n",
            "Requirement already satisfied: fsspec>=2023.5.0 in /usr/local/lib/python3.10/dist-packages (from huggingface-hub<1.0,>=0.19.3->transformers) (2023.6.0)\n",
            "Requirement already satisfied: typing-extensions>=3.7.4.3 in /usr/local/lib/python3.10/dist-packages (from huggingface-hub<1.0,>=0.19.3->transformers) (4.11.0)\n",
            "Requirement already satisfied: charset-normalizer<4,>=2 in /usr/local/lib/python3.10/dist-packages (from requests->transformers) (3.3.2)\n",
            "Requirement already satisfied: idna<4,>=2.5 in /usr/local/lib/python3.10/dist-packages (from requests->transformers) (3.7)\n",
            "Requirement already satisfied: urllib3<3,>=1.21.1 in /usr/local/lib/python3.10/dist-packages (from requests->transformers) (2.0.7)\n",
            "Requirement already satisfied: certifi>=2017.4.17 in /usr/local/lib/python3.10/dist-packages (from requests->transformers) (2024.2.2)\n"
          ]
        }
      ]
    },
    {
      "cell_type": "code",
      "source": [
        "# Split data into train and validation sets\n",
        "X_train, X_val, y_train, y_val = train_test_split(txt_data['Cln_Articles'], txt_data['mood_checker'], test_size=0.2, random_state=42, shuffle=True)\n",
        "\n",
        "# Initialize tokenizer and encode text data\n",
        "tokenizer = BertTokenizer.from_pretrained('bert-base-uncased')\n",
        "X_train_encoded = tokenizer(X_train.tolist(), padding=True, truncation=True, max_length=128, return_tensors=\"tf\")\n",
        "X_val_encoded = tokenizer(X_val.tolist(), padding=True, truncation=True, max_length=128, return_tensors=\"tf\")\n",
        "\n",
        "# Convert labels to one-hot encoding\n",
        "y_train_encoded = tf.keras.utils.to_categorical(y_train.map({'positive': 1, 'negative': 0}), num_classes=2)\n",
        "y_val_encoded = tf.keras.utils.to_categorical(y_val.map({'positive': 1, 'negative': 0}), num_classes=2)\n",
        "\n",
        "# Convert BatchEncoding objects to dictionaries\n",
        "X_train_encoded = {key: val.numpy() for key, val in X_train_encoded.items()}\n",
        "X_val_encoded = {key: val.numpy() for key, val in X_val_encoded.items()}"
      ],
      "metadata": {
        "id": "AsncgwB7K4wp"
      },
      "execution_count": null,
      "outputs": []
    },
    {
      "cell_type": "code",
      "source": [
        "print(np.unique(y_val_encoded))"
      ],
      "metadata": {
        "colab": {
          "base_uri": "https://localhost:8080/"
        },
        "id": "vwYQh2abXN3Z",
        "outputId": "8a0eea1e-1574-4932-c859-84a193b6e9a1"
      },
      "execution_count": null,
      "outputs": [
        {
          "output_type": "stream",
          "name": "stdout",
          "text": [
            "[0. 1.]\n"
          ]
        }
      ]
    },
    {
      "cell_type": "code",
      "source": [
        "model = TFBertForSequenceClassification.from_pretrained('bert-base-uncased')\n",
        "\n",
        "optimizer = 'adam'\n",
        "loss = tf.keras.losses.CategoricalCrossentropy(from_logits=True)\n",
        "metrics = ['accuracy']\n",
        "\n",
        "model.compile(optimizer=optimizer, loss=loss, metrics=metrics)\n",
        "model.summary()"
      ],
      "metadata": {
        "colab": {
          "base_uri": "https://localhost:8080/"
        },
        "id": "WT8w6T9nLObo",
        "outputId": "5a097f2c-98dd-4603-dc08-9c6d8e8c8b0a"
      },
      "execution_count": null,
      "outputs": [
        {
          "output_type": "stream",
          "name": "stderr",
          "text": [
            "All PyTorch model weights were used when initializing TFBertForSequenceClassification.\n",
            "\n",
            "Some weights or buffers of the TF 2.0 model TFBertForSequenceClassification were not initialized from the PyTorch model and are newly initialized: ['classifier.weight', 'classifier.bias']\n",
            "You should probably TRAIN this model on a down-stream task to be able to use it for predictions and inference.\n"
          ]
        },
        {
          "output_type": "stream",
          "name": "stdout",
          "text": [
            "Model: \"tf_bert_for_sequence_classification_4\"\n",
            "_________________________________________________________________\n",
            " Layer (type)                Output Shape              Param #   \n",
            "=================================================================\n",
            " bert (TFBertMainLayer)      multiple                  109482240 \n",
            "                                                                 \n",
            " dropout_189 (Dropout)       multiple                  0 (unused)\n",
            "                                                                 \n",
            " classifier (Dense)          multiple                  1538      \n",
            "                                                                 \n",
            "=================================================================\n",
            "Total params: 109483778 (417.65 MB)\n",
            "Trainable params: 109483778 (417.65 MB)\n",
            "Non-trainable params: 0 (0.00 Byte)\n",
            "_________________________________________________________________\n"
          ]
        }
      ]
    },
    {
      "cell_type": "code",
      "source": [
        "fit = model.fit(\n",
        "    x=X_train_encoded,\n",
        "    y=y_train_encoded,\n",
        "    epochs=3,\n",
        "    batch_size=32\n",
        ")"
      ],
      "metadata": {
        "colab": {
          "base_uri": "https://localhost:8080/"
        },
        "id": "HrqynXY2LSLT",
        "outputId": "db03ea91-dc41-4745-c859-7b9e4ee7941b"
      },
      "execution_count": null,
      "outputs": [
        {
          "output_type": "stream",
          "name": "stdout",
          "text": [
            "1/1 [==============================] - 127s 127s/step - loss: 0.7726 - accuracy: 0.4500\n",
            "Epoch 2/3\n",
            "1/1 [==============================] - 32s 32s/step - loss: 0.7398 - accuracy: 0.5500\n",
            "Epoch 3/3\n",
            "1/1 [==============================] - 31s 31s/step - loss: 1.1231 - accuracy: 0.4500\n"
          ]
        }
      ]
    },
    {
      "cell_type": "code",
      "source": [
        "val_loss, val_accuracy = model.evaluate(X_val_encoded, y_val_encoded)\n",
        "print(f'Validation Loss: {val_loss}, Validation Accuracy: {val_accuracy*100}%')\n",
        "\n",
        "loss, accuracy = model.evaluate(X_train_encoded, y_train_encoded)\n",
        "print(f'Train Loss: {loss}, Train Accuracy: {accuracy*100}%')"
      ],
      "metadata": {
        "id": "4fdj-3LsLXFJ"
      },
      "execution_count": null,
      "outputs": []
    }
  ]
}